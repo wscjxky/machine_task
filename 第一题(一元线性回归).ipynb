{
 "cells": [
  {
   "cell_type": "markdown",
   "metadata": {},
   "source": [
    "# 一元线性回归"
   ]
  },
  {
   "cell_type": "markdown",
   "metadata": {},
   "source": [
    "基本形式\n",
    "$$\\tag{1}\n",
    "f(\\mathbf{x}) = w_1 x_1 + w_2 x_2 + ... + w_d x_d + b\n",
    "$$\n",
    "向量形式\n",
    "$$\\tag{2}\n",
    "f(\\mathbf{x}) = \\mathbf{w}^\\mathrm{T}\\mathbf{x}+b\n",
    "$$\n",
    "其中$\\mathbf{w} = (w_1; w_2; ...; w_d)$.\n",
    "\n",
    "针对一元线性回归，我们有\n",
    "$$\\tag{3}\n",
    "f(x) = w x + b$$"
   ]
  },
  {
   "cell_type": "markdown",
   "metadata": {},
   "source": [
    "## 1. 读取数据"
   ]
  },
  {
   "cell_type": "code",
   "execution_count": null,
   "metadata": {},
   "outputs": [],
   "source": [
    "import numpy as np"
   ]
  },
  {
   "cell_type": "code",
   "execution_count": null,
   "metadata": {},
   "outputs": [],
   "source": [
    "import pandas as pd\n",
    "\n",
    "# 读取数据\n",
    "data = pd.read_csv('data/kaggle_house_price_prediction/kaggle_hourse_price_train.csv')\n",
    "\n",
    "# 丢弃有缺失值的特征（列）\n",
    "data.dropna(axis = 1, inplace = True)\n",
    "\n",
    "# 只保留整数的特征\n",
    "data = data[[col for col in data.dtypes.index if data.dtypes[col] == 'int64']]"
   ]
  },
  {
   "cell_type": "markdown",
   "metadata": {},
   "source": [
    "本题的要求是，针对LotArea, BsmtUnfSF, GarageArea三个特征，使用训练集训练三个一元线性回归模型，对比其在测试集上的MAE和RMSE，并且要绘制曲线。"
   ]
  },
  {
   "cell_type": "markdown",
   "metadata": {},
   "source": [
    "所以我们只保留这三列与标记这一列，总共四列的数据即可"
   ]
  },
  {
   "cell_type": "code",
   "execution_count": null,
   "metadata": {},
   "outputs": [],
   "source": [
    "features = ['LotArea', 'BsmtUnfSF', 'GarageArea']\n",
    "target = 'SalePrice'\n",
    "data = data[features + [target]]"
   ]
  },
  {
   "cell_type": "markdown",
   "metadata": {},
   "source": [
    "## 2. 打乱数据顺序"
   ]
  },
  {
   "cell_type": "code",
   "execution_count": null,
   "metadata": {},
   "outputs": [],
   "source": [
    "from sklearn.utils import shuffle"
   ]
  },
  {
   "cell_type": "code",
   "execution_count": null,
   "metadata": {},
   "outputs": [],
   "source": [
    "data_shuffled = shuffle(data, random_state = 32) # 这个32不要改变"
   ]
  },
  {
   "cell_type": "code",
   "execution_count": null,
   "metadata": {},
   "outputs": [],
   "source": [
    "data_shuffled.head()"
   ]
  },
  {
   "cell_type": "markdown",
   "metadata": {},
   "source": [
    "## 3. 取前70%的数据为训练集，后30%为测试集"
   ]
  },
  {
   "cell_type": "code",
   "execution_count": null,
   "metadata": {},
   "outputs": [],
   "source": [
    "num_of_samples = data_shuffled.shape[0]\n",
    "split_line = int(num_of_samples * 0.7)\n",
    "train_data = data.iloc[:split_line]\n",
    "test_data = data.iloc[split_line:]"
   ]
  },
  {
   "cell_type": "code",
   "execution_count": null,
   "metadata": {},
   "outputs": [],
   "source": [
    "train_data.shape"
   ]
  },
  {
   "cell_type": "code",
   "execution_count": null,
   "metadata": {},
   "outputs": [],
   "source": [
    "test_data.shape"
   ]
  },
  {
   "cell_type": "markdown",
   "metadata": {},
   "source": [
    "## 4. 编写模型"
   ]
  },
  {
   "cell_type": "markdown",
   "metadata": {},
   "source": [
    "我们以类(class)的形式编写这个模型，python中的类很简单，只不过这个类里面需要调用两个函数，一个是get_w，这个是计算模型w的函数，另一个是get_b，计算模型b的函数，需要大家来完成。"
   ]
  },
  {
   "cell_type": "markdown",
   "metadata": {},
   "source": [
    "本实验要求使用最小二乘法求解一元线性回归模型  \n",
    "求解$w$和$b$使均方误差$E_{(w,b)} = \\sum^m_{i=1}(y_i - wx_i - b)^2$最小化的过程，称为线性回归模型的最小二乘“参数估计”(parameter estimation)。我们可将$E_{(w,b)}$分别对$w$和$b$求导，得到\n",
    "$$\\tag{4}\n",
    "\\frac{\\partial E_{(w,b)}}{\\partial w} = 2(w \\sum^m_{i=1} x^2_i - \\sum^m_{i=1} (y_i - b) x_i),\n",
    "$$\n",
    "\n",
    "$$\\tag{5}\n",
    "\\frac{\\partial E_{(w,b)}}{\\partial b} = 2(mb - \\sum^m_{i=1}(y_i - w x_i))\n",
    "$$\n",
    "\n",
    "然后令式(4)和式(5)为0，可得到$w$和$b$的闭式解(closed-form solution)\n",
    "$$\\tag{6}\n",
    "w = \\frac{\\sum^m_{i=1} y_i(x_i - \\bar{x})}{\\sum^m_{i=1}x^2_i - \\frac{1}{m}(\\sum^m_{i=1}x_i)^2}\n",
    "$$\n",
    "\n",
    "$$\\tag{7}\n",
    "b = \\frac{1}{m}\\sum^m_{i=1}(y_i - w x_i)\n",
    "$$\n",
    "其中，$\\bar{x} = \\frac{1}{m}\\sum^m_{i=1}x_i$为$x$的均值"
   ]
  },
  {
   "cell_type": "markdown",
   "metadata": {},
   "source": [
    "首先编写求解w的函数，传入的参数就是x和y，都是np.ndarray类型的，或是pd.Series类型的（其实都一样）。我们需要大家在下面完成式(6)和式(7)的求解过程，将计算得到的w和b的值返回"
   ]
  },
  {
   "cell_type": "code",
   "execution_count": null,
   "metadata": {},
   "outputs": [],
   "source": [
    "def get_w(x, y):\n",
    "    '''\n",
    "    这个函数是计算模型w的值的函数，\n",
    "    传入的参数分别是x和y，表示数据与标记\n",
    "    \n",
    "    Parameter\n",
    "    ----------\n",
    "        x: np.ndarray，pd.Series，传入的特征数据\n",
    "\n",
    "        y: np.ndarray, pd.Series，对应的标记\n",
    "    \n",
    "    Returns\n",
    "    ----------\n",
    "        w: float, 模型w的值\n",
    "    '''\n",
    "    \n",
    "    # m表示样本的数量\n",
    "    m = len(x)\n",
    "    \n",
    "    # 求x的均值\n",
    "    x_mean = None # YOUR CODE HERE\n",
    "    \n",
    "    # 求w的分子部分\n",
    "    numerator = None # YOUR CODE HERE\n",
    "    \n",
    "    # 求w的分母部分\n",
    "    denominator = None # YOUR CODE HERE\n",
    "    \n",
    "    # 求w\n",
    "    w = None # YOUR CODE HERE\n",
    "    \n",
    "    # 返回w\n",
    "    return w"
   ]
  },
  {
   "cell_type": "code",
   "execution_count": null,
   "metadata": {},
   "outputs": [],
   "source": [
    "def get_b(x, y, w):\n",
    "    '''\n",
    "    这个函数是计算模型b的值的函数，\n",
    "    传入的参数分别是x, y, w，表示数据，标记以及模型的w值\n",
    "    \n",
    "    Parameter\n",
    "    ----------\n",
    "        x: np.ndarray，pd.Series，传入的特征数据\n",
    "\n",
    "        y: np.ndarray, pd.Series，对应的标记\n",
    "        \n",
    "        w: np.ndarray, pd.Series，模型w的值\n",
    "    \n",
    "    Returns\n",
    "    ----------\n",
    "        b: float, 模型b的值\n",
    "    '''\n",
    "    # 样本个数\n",
    "    m = len(x)\n",
    "    \n",
    "    # 求b\n",
    "    b = None # YOUR CODE HERE\n",
    "    \n",
    "    # 返回b\n",
    "    return b"
   ]
  },
  {
   "cell_type": "markdown",
   "metadata": {},
   "source": [
    "下面这个类，就是一个最简单的一元线性回归的类，我们已经帮你实现好了三个方法"
   ]
  },
  {
   "cell_type": "code",
   "execution_count": null,
   "metadata": {},
   "outputs": [],
   "source": [
    "class myLinearRegression:\n",
    "    def __init__(self):\n",
    "        '''\n",
    "        类的初始化方法，不需要初始化的参数\n",
    "        这里设置了两个成员变量，用来存储模型w和b的值\n",
    "        '''\n",
    "        self.w = None\n",
    "        self.b = None\n",
    "    \n",
    "    def fit(self, x, y):\n",
    "        '''\n",
    "        这里需要编写训练的函数，也就是调用模型的fit方法，传入特征x的数据和标记y的数据\n",
    "        这个方法就可以求解出w和b\n",
    "        '''\n",
    "        self.w = get_w(x, y)\n",
    "        self.b = get_b(x, y, self.w)\n",
    "        \n",
    "    def predict(self, x):\n",
    "        '''\n",
    "        这是预测的函数，传入特征的数据，返回模型预测的结果\n",
    "        '''\n",
    "        if self.w == None or self.b == None:\n",
    "            print(\"模型还未训练，请先调用fit方法训练\")\n",
    "            return \n",
    "        \n",
    "        return self.w * x + self.b"
   ]
  },
  {
   "cell_type": "markdown",
   "metadata": {},
   "source": [
    "## 5. 预测"
   ]
  },
  {
   "cell_type": "code",
   "execution_count": null,
   "metadata": {},
   "outputs": [],
   "source": [
    "# 创建一个模型的实例\n",
    "model1 = myLinearRegression()\n",
    "\n",
    "# 使用训练集对模型进行训练，传入训练集的LotArea和标记SalePrice\n",
    "model1.fit(train_data['LotArea'], train_data['SalePrice'])\n",
    "\n",
    "# 对测试集进行预测，并将结果存储在变量prediction中\n",
    "prediction1 = model1.predict(test_data['LotArea'])"
   ]
  },
  {
   "cell_type": "markdown",
   "metadata": {},
   "source": [
    "## 6. 性能度量"
   ]
  },
  {
   "cell_type": "markdown",
   "metadata": {},
   "source": [
    "模型训练完成后，还需要在测试集上验证其预测能力，这就需要计算模型的一些性能指标，如MAE和RMSE等。\n",
    "\n",
    "$$\\tag{8}\n",
    "MAE(\\hat{y}, y) = \\frac{1}{m} \\sum^m_{i=1} \\vert \\hat{y} - y \\vert\n",
    "$$\n",
    "\n",
    "$$\\tag{9}\n",
    "RMSE(\\hat{y}, y) = \\sqrt{\\frac{1}{m} \\sum^m_{i=1} (\\hat{y} - y)^2}\n",
    "$$\n",
    "其中，$\\hat{y}$是模型的预测值，$y$是真值，$m$是样本数"
   ]
  },
  {
   "cell_type": "code",
   "execution_count": null,
   "metadata": {},
   "outputs": [],
   "source": [
    "def MAE(y_hat, y):\n",
    "    # 请你完成MAE的计算过程\n",
    "    # YOUR CODE HERE\n",
    "    \n",
    "    pass # 删除掉这句pass"
   ]
  },
  {
   "cell_type": "code",
   "execution_count": null,
   "metadata": {},
   "outputs": [],
   "source": [
    "def RMSE(y_hat, y):\n",
    "    # 请你完成RMSE的计算过程\n",
    "    # YOUR CODE HERE\n",
    "    \n",
    "    pass # 删除掉这句pass"
   ]
  },
  {
   "cell_type": "markdown",
   "metadata": {},
   "source": [
    "在此计算出模型在测试集上的MAE与RMSE值"
   ]
  },
  {
   "cell_type": "code",
   "execution_count": null,
   "metadata": {},
   "outputs": [],
   "source": [
    "mae1 = MAE(prediction1, test_data['SalePrice'])\n",
    "rmse1 = RMSE(prediction1, test_data['SalePrice'])\n",
    "print(\"模型1，特征：LotArea\")\n",
    "print(\"MAE:\", mae1)\n",
    "print(\"RMSE:\", rmse1)"
   ]
  },
  {
   "cell_type": "markdown",
   "metadata": {},
   "source": [
    "## 7. 模型预测效果可视化"
   ]
  },
  {
   "cell_type": "code",
   "execution_count": null,
   "metadata": {},
   "outputs": [],
   "source": [
    "import matplotlib.pyplot as plt\n",
    "%matplotlib inline"
   ]
  },
  {
   "cell_type": "code",
   "execution_count": null,
   "metadata": {},
   "outputs": [],
   "source": [
    "plt.figure(figsize = (16, 6))\n",
    "\n",
    "plt.subplot(121)\n",
    "plt.plot(train_data['LotArea'].values, train_data['SalePrice'].values, '.', label = 'training data')\n",
    "plt.plot(train_data['LotArea'].values, model1.predict(train_data['LotArea']), '-', label = 'prediction')\n",
    "plt.xlabel(\"LotArea\")\n",
    "plt.ylabel('SalePrice')\n",
    "plt.title(\"training set\")\n",
    "plt.legend()\n",
    "\n",
    "plt.subplot(122)\n",
    "plt.plot(test_data['LotArea'].values, test_data['SalePrice'].values, '.', label = 'testing data')\n",
    "plt.plot(test_data['LotArea'].values, prediction1, '-', label = 'prediction')\n",
    "plt.xlabel(\"LotArea\")\n",
    "plt.ylabel('SalePrice')\n",
    "plt.title(\"testing set\")\n",
    "plt.legend()"
   ]
  },
  {
   "cell_type": "markdown",
   "metadata": {},
   "source": [
    "### 通过左右两图的对比，分析该模型出现的问题，并给出能帮助模型更好的做预测的方案(选做)\n",
    "###### 双击此处展开讨论\n",
    "\n",
    "\n",
    "\n",
    "\n"
   ]
  },
  {
   "cell_type": "markdown",
   "metadata": {},
   "source": [
    "# 使用BsmtUnfSF作为特征，完成模型的训练，指标计算，可视化"
   ]
  },
  {
   "cell_type": "code",
   "execution_count": null,
   "metadata": {},
   "outputs": [],
   "source": [
    "# YOUR CODE HERE\n",
    "\n",
    "\n"
   ]
  },
  {
   "cell_type": "markdown",
   "metadata": {},
   "source": [
    "# 使用GarageArea作为特征，完成模型的训练，指标计算，可视化"
   ]
  },
  {
   "cell_type": "code",
   "execution_count": null,
   "metadata": {},
   "outputs": [],
   "source": [
    "# YOUR CODE HERE\n",
    "\n",
    "\n"
   ]
  },
  {
   "cell_type": "markdown",
   "metadata": {},
   "source": [
    "# 选做：剔除训练集中的离群值(outlier)，然后重新训练模型，观察模型预测性能的变化\n",
    "###### 提示：可以使用下面的代码处理数据"
   ]
  },
  {
   "cell_type": "code",
   "execution_count": null,
   "metadata": {},
   "outputs": [],
   "source": [
    "# YOUR CODE HERE\n",
    "t = train_data[(train_data['LotArea'] < 60000) & (train_data['LotArea'] > 0)] # 将训练集中LotArea小于60000的值存入t\n",
    "t = t[t['SalePrice'] < 500000] # 将t中SalePrice小于500000的值保留\n",
    "\n",
    "# 绘制处理后的数据\n",
    "plt.figure(figsize = (8, 7))\n",
    "plt.plot(t['LotArea'], t['SalePrice'], '.')"
   ]
  },
  {
   "cell_type": "code",
   "execution_count": null,
   "metadata": {},
   "outputs": [],
   "source": []
  }
 ],
 "metadata": {
  "kernelspec": {
   "display_name": "Python 3",
   "language": "python",
   "name": "python3"
  },
  "language_info": {
   "codemirror_mode": {
    "name": "ipython",
    "version": 3
   },
   "file_extension": ".py",
   "mimetype": "text/x-python",
   "name": "python",
   "nbconvert_exporter": "python",
   "pygments_lexer": "ipython3",
   "version": "3.6.5"
  }
 },
 "nbformat": 4,
 "nbformat_minor": 2
}
