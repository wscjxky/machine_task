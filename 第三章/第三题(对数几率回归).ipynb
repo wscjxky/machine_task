{
 "cells": [
  {
   "cell_type": "markdown",
   "metadata": {},
   "source": [
    "# 对数几率回归"
   ]
  },
  {
   "cell_type": "markdown",
   "metadata": {},
   "source": [
    "## 实验内容\n",
    "1. 使用对数几率回归完成垃圾邮件分类问题和Dota2结果预测问题。\n",
    "2. 计算十折交叉验证下的精度(accuracy)，查准率(precision)，查全率(recall)，F1值。\n",
    "\n",
    "## 评测指标  \n",
    "1. 精度\n",
    "2. 查准率\n",
    "3. 查全率\n",
    "4. F1"
   ]
  },
  {
   "cell_type": "markdown",
   "metadata": {},
   "source": [
    "# 1. 读取数据"
   ]
  },
  {
   "cell_type": "code",
   "execution_count": 1,
   "metadata": {},
   "outputs": [],
   "source": [
    "import numpy as np"
   ]
  },
  {
   "cell_type": "code",
   "execution_count": 2,
   "metadata": {},
   "outputs": [],
   "source": [
    "spambase = np.loadtxt('data/spambase/spambase.data', delimiter = \",\")\n",
    "dota2results = np.loadtxt('data/dota2Dataset/dota2Train.csv', delimiter=',')"
   ]
  },
  {
   "cell_type": "markdown",
   "metadata": {},
   "source": [
    "# 2. 导入模型"
   ]
  },
  {
   "cell_type": "code",
   "execution_count": 3,
   "metadata": {},
   "outputs": [],
   "source": [
    "from sklearn.linear_model import LogisticRegression\n",
    "from sklearn.metrics import accuracy_score\n",
    "from sklearn.metrics import precision_score\n",
    "from sklearn.metrics import recall_score\n",
    "from sklearn.metrics import f1_score\n",
    "from sklearn.model_selection import cross_val_predict"
   ]
  },
  {
   "cell_type": "markdown",
   "metadata": {},
   "source": [
    "# 3. 提取数据"
   ]
  },
  {
   "cell_type": "markdown",
   "metadata": {},
   "source": [
    "这里的spamx和dota2x包含了数据集内所有的特征"
   ]
  },
  {
   "cell_type": "code",
   "execution_count": 4,
   "metadata": {},
   "outputs": [],
   "source": [
    "spamx = spambase[:, :57]\n",
    "spamy = spambase[:, 57]\n",
    "\n",
    "dota2x = dota2results[:, 1:]\n",
    "dota2y = dota2results[:, 0]"
   ]
  },
  {
   "cell_type": "markdown",
   "metadata": {},
   "source": [
    "# 4. 训练并预测"
   ]
  },
  {
   "cell_type": "markdown",
   "metadata": {},
   "source": [
    "请你完成两个模型使用全部特征的训练与预测，并将预测结果存储起来"
   ]
  },
  {
   "cell_type": "code",
   "execution_count": 5,
   "metadata": {},
   "outputs": [],
   "source": [
    "model = LogisticRegression()\n",
    "\n",
    "y_pred = cross_val_predict(model, spamx, spamy, cv=10)\n",
    "\n",
    "\n",
    "\n",
    "y_pred2 = cross_val_predict(model, dota2x, dota2y, cv=10)"
   ]
  },
  {
   "cell_type": "markdown",
   "metadata": {},
   "source": [
    "# 5. 评价指标的计算"
   ]
  },
  {
   "cell_type": "markdown",
   "metadata": {},
   "source": [
    "请你计算两个模型的四项指标"
   ]
  },
  {
   "cell_type": "code",
   "execution_count": 6,
   "metadata": {},
   "outputs": [
    {
     "name": "stdout",
     "output_type": "stream",
     "text": [
      "0.9184959791349706 0.8869277440706013 0.9043869516310461 0.8955722639933167\n",
      "0.598758769562871 0.6766225247017342 0.6066682595989487 0.6397387318415723\n"
     ]
    }
   ],
   "source": [
    "acc = accuracy_score(y_true=spamy, y_pred=y_pred)\n",
    "recall = recall_score(y_true=spamy, y_pred=y_pred)\n",
    "precision = precision_score(y_true=spamy, y_pred=y_pred)\n",
    "f1 = f1_score(y_true=spamy, y_pred=y_pred)\n",
    "print(acc, recall, precision, f1)\n",
    "\n",
    "\n",
    "acc2 = accuracy_score(y_true=dota2y, y_pred=y_pred2)\n",
    "recall2 = recall_score(y_true=dota2y, y_pred=y_pred2)\n",
    "precision2 = precision_score(y_true=dota2y, y_pred=y_pred2)\n",
    "f12 = f1_score(y_true=dota2y, y_pred=y_pred2)\n",
    "print(acc2, recall2, precision2, f12)"
   ]
  },
  {
   "cell_type": "markdown",
   "metadata": {},
   "source": [
    "###### 双击此处填写\n",
    "\n",
    "数据集|精度|查准率|查全率|F1\n",
    "-|-|-|-|-\n",
    "spambase | 0.9184959791349706  | 0.8869277440706013  | 0.9043869516310461  |0.8955722639933167\n",
    "dota2Results | 0.598758769562871  | 0.6766225247017342 |0.6066682595989487  | 0.6397387318415723"
   ]
  },
  {
   "cell_type": "markdown",
   "metadata": {},
   "source": [
    "# 6. 选做：尝试对特征进行变换、筛选、组合后，训练模型并计算十折交叉验证后的四项指标"
   ]
  },
  {
   "cell_type": "code",
   "execution_count": 7,
   "metadata": {},
   "outputs": [
    {
     "name": "stdout",
     "output_type": "stream",
     "text": [
      "0.886329058900239 0.8075013789299503 0.8937728937728938 0.8484497247174733\n",
      "0.9198000434688112 0.8935466078323221 0.9020044543429844 0.8977556109725686\n",
      "0.924798956748533 0.8957528957528957 0.9118472768107805 0.9037284362826934\n"
     ]
    }
   ],
   "source": [
    "from sklearn.preprocessing import StandardScaler,MinMaxScaler,Normalizer\n",
    "def min_feature(x):\n",
    "    return MinMaxScaler().fit_transform(x)\n",
    "\n",
    "\n",
    "def nor_feature(x):\n",
    "    return Normalizer().fit_transform(x)\n",
    "\n",
    "def standard_feature(x):\n",
    "    return StandardScaler().fit_transform(x)\n",
    "\n",
    "spamx=min_feature(spamx)\n",
    "y_pred = cross_val_predict(model, spamx, spamy, cv=10)\n",
    "acc = accuracy_score(y_true=spamy, y_pred=y_pred)\n",
    "recall = recall_score(y_true=spamy, y_pred=y_pred)\n",
    "precision = precision_score(y_true=spamy, y_pred=y_pred)\n",
    "f1 = f1_score(y_true=spamy, y_pred=y_pred)\n",
    "print(acc, recall, precision, f1)\n",
    "\n",
    "spamx=nor_feature(spamx)\n",
    "y_pred = cross_val_predict(model, spamx, spamy, cv=10)\n",
    "acc = accuracy_score(y_true=spamy, y_pred=y_pred)\n",
    "recall = recall_score(y_true=spamy, y_pred=y_pred)\n",
    "precision = precision_score(y_true=spamy, y_pred=y_pred)\n",
    "f1 = f1_score(y_true=spamy, y_pred=y_pred)\n",
    "print(acc, recall, precision, f1)\n",
    "\n",
    "spamx=standard_feature(spamx)\n",
    "spamx=nor_feature(spamx)\n",
    "\n",
    "y_pred = cross_val_predict(model, spamx, spamy, cv=10)\n",
    "acc = accuracy_score(y_true=spamy, y_pred=y_pred)\n",
    "recall = recall_score(y_true=spamy, y_pred=y_pred)\n",
    "precision = precision_score(y_true=spamy, y_pred=y_pred)\n",
    "f1 = f1_score(y_true=spamy, y_pred=y_pred)\n",
    "print(acc, recall, precision, f1)"
   ]
  },
  {
   "cell_type": "markdown",
   "metadata": {},
   "source": [
    "1. 模型1的处理流程：特征归一化\n",
    "\n",
    "2. 模型2的处理流程：特征去均值\n",
    "\n",
    "3. 模型3的处理流程:特征去均值同时特征正则化\n",
    "\n",
    "特征经过正则化和去均值后效果最好\n",
    "\n",
    "模型|数据集|精度|查准率|查全率|F1\n",
    "-|-|-|-|-|-\n",
    "模型1 | 数据集 | 0.886329058900239 0.8075013789299503 0.8937728937728938 0.8484497247174733\n",
    "\n",
    "模型2 | 数据集 | 0.9198000434688112 0.8935466078323221 0.9020044543429844 0.8977556109725686\n",
    "\n",
    "模型3 | 数据集 | 0.924798956748533 0.8957528957528957 0.9118472768107805 0.9037284362826934\n"
   ]
  },
  {
   "cell_type": "code",
   "execution_count": null,
   "metadata": {},
   "outputs": [],
   "source": [
    ""
   ]
  }
 ],
 "metadata": {
  "kernelspec": {
   "display_name": "Python 3",
   "language": "python",
   "name": "python3"
  },
  "language_info": {
   "codemirror_mode": {
    "name": "ipython",
    "version": 3.0
   },
   "file_extension": ".py",
   "mimetype": "text/x-python",
   "name": "python",
   "nbconvert_exporter": "python",
   "pygments_lexer": "ipython3",
   "version": "3.6.5"
  }
 },
 "nbformat": 4,
 "nbformat_minor": 0
}