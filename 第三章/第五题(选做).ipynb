{
 "cells": [
  {
   "cell_type": "markdown",
   "metadata": {},
   "source": [
    "# 综合题(选做)"
   ]
  },
  {
   "cell_type": "markdown",
   "metadata": {},
   "source": [
    "任务要求：白葡萄酒质量共分为7个等级，对白葡萄酒质量进行预测。\n",
    "1. 使用精度作为评价指标。\n",
    "2. 使用一元线性回归、多元线性回归、对数线性回归等线性回归模型对葡萄酒质量进行预测，计算其十折交叉验证的精度。\n",
    "3. 使用对数几率回归、线性判别分析对葡萄酒质量进行预测，计算其十折交叉验证的精度。\n",
    "4. 对比不同模型的预测能力。"
   ]
  },
  {
   "cell_type": "markdown",
   "metadata": {},
   "source": [
    "## 读取数据"
   ]
  },
  {
   "cell_type": "code",
   "execution_count": 4,
   "metadata": {},
   "outputs": [],
   "source": [
    "import numpy as np\n",
    "from sklearn.model_selection import cross_val_predict\n",
    "from sklearn.metrics import accuracy_score\n",
    "from sklearn.discriminant_analysis import LinearDiscriminantAnalysis\n",
    "from sklearn.linear_model import LogisticRegression\n",
    "from sklearn.linear_model import LinearRegression\n",
    "from sklearn.preprocessing import MinMaxScaler, StandardScaler\n",
    "from sklearn.metrics import precision_score\n",
    "from sklearn.metrics import recall_score\n",
    "from sklearn.metrics import f1_score\n",
    "from sklearn.metrics import mean_absolute_error\n",
    "from sklearn.metrics import mean_squared_error\n",
    "\n",
    "data = np.recfromcsv('data/wine_quality/winequality-white.csv', delimiter=\";\")\n",
    "data = np.asarray([list(x) for x in data])"
   ]
  },
  {
   "cell_type": "code",
   "execution_count": 7,
   "metadata": {},
   "outputs": [],
   "source": [
    "import random\n"
   ]
  },
  {
   "cell_type": "markdown",
   "metadata": {},
   "source": [
    "\n",
    "\n",
    "定义函数。\n",
    "特征归一化函数\n",
    "特征去均值函数\n",
    "特征正则化函数\n"
   ]
  },
  {
   "cell_type": "code",
   "execution_count": 5,
   "metadata": {},
   "outputs": [],
   "source": [
    "\n",
    "def min_feature(x):\n",
    "    return MinMaxScaler().fit_transform(x)\n",
    "\n",
    "\n",
    "def standard_feature(x):\n",
    "    return StandardScaler().fit_transform(x)\n",
    "\n",
    "\n",
    "def eval(y_true, y_pred):\n",
    "    acc = accuracy_score(y_true,y_pred)\n",
    "    ab_error = mean_absolute_error(y_true, y_pred)\n",
    "    squ_error = mean_squared_error(y_true, y_pred) ** 0.5\n",
    "    recall = recall_score(y_true, y_pred,average='micro')\n",
    "    precision = precision_score(y_true, y_pred,average='micro')\n",
    "    f1 = f1_score(y_true, y_pred,average='micro')\n",
    "    return acc, recall, precision, f1, ab_error, squ_error"
   ]
  },
  {
   "cell_type": "markdown",
   "metadata": {},
   "source": [
    "\n",
    "modellist遍历训练模型 横坐标代表5个模型的其中一个，纵坐标为评价指标的数值\n"
   ]
  },
  {
   "cell_type": "code",
   "execution_count": 28,
   "metadata": {},
   "outputs": [
    {
     "name": "stdout",
     "output_type": "stream",
     "text": [
      "0.44875459371171905 0.44875459371171905 0.44875459371171905 0.44875459371171905 0.6304614128215599 0.893924870530357\n",
      "0.4554920375663536 0.4554920375663536 0.4554920375663536 0.4554920375663536 0.6218864842792977 0.8881967270194805\n"
     ]
    },
    {
     "name": "stderr",
     "output_type": "stream",
     "text": [
      "H:\\anaconda\\lib\\site-packages\\sklearn\\model_selection\\_split.py:605: Warning: The least populated class in y has only 5 members, which is too few. The minimum number of members in any class cannot be less than n_splits=10.\n",
      "  % (min_groups, self.n_splits)), Warning)\n",
      "H:\\anaconda\\lib\\site-packages\\sklearn\\model_selection\\_split.py:605: Warning: The least populated class in y has only 5 members, which is too few. The minimum number of members in any class cannot be less than n_splits=10.\n",
      "  % (min_groups, self.n_splits)), Warning)\n",
      "H:\\anaconda\\lib\\site-packages\\sklearn\\discriminant_analysis.py:442: UserWarning: The priors do not sum to 1. Renormalizing\n",
      "  UserWarning)\n",
      "H:\\anaconda\\lib\\site-packages\\sklearn\\discriminant_analysis.py:442: UserWarning: The priors do not sum to 1. Renormalizing\n",
      "  UserWarning)\n",
      "H:\\anaconda\\lib\\site-packages\\sklearn\\discriminant_analysis.py:442: UserWarning: The priors do not sum to 1. Renormalizing\n",
      "  UserWarning)\n",
      "H:\\anaconda\\lib\\site-packages\\sklearn\\discriminant_analysis.py:442: UserWarning: The priors do not sum to 1. Renormalizing\n",
      "  UserWarning)\n",
      "H:\\anaconda\\lib\\site-packages\\sklearn\\discriminant_analysis.py:442: UserWarning: The priors do not sum to 1. Renormalizing\n",
      "  UserWarning)\n",
      "No handles with labels found to put in legend.\n"
     ]
    },
    {
     "name": "stdout",
     "output_type": "stream",
     "text": [
      "0.523274806043283 0.523274806043283 0.523274806043283 0.523274806043283 0.5408329930583912 0.8244180792880037\n",
      "0.5212331563903634 0.5212331563903634 0.5212331563903634 0.5212331563903634 0.5414454879542671 0.8255317402405244\n"
     ]
    },
    {
     "data": {
      "text/plain": [
       "<matplotlib.legend.Legend at 0x216be618be0>"
      ]
     },
     "execution_count": 28,
     "metadata": {},
     "output_type": "execute_result"
    },
    {
     "data": {
      "image/png": "[encoded data removed]",
      "text/plain": [
       "<Figure size 432x288 with 1 Axes>"
      ]
     },
     "metadata": {},
     "output_type": "display_data"
    }
   ],
   "source": [
    "import matplotlib.pyplot as plt\n",
    "%matplotlib inline\n",
    "model_list = [LinearRegression(), LinearRegression(), LinearRegression(), LogisticRegression(),\n",
    "              LinearDiscriminantAnalysis()]\n",
    "axis_x=[i for i in range(6)]\n",
    "\n",
    "for i, m in enumerate(model_list):\n",
    "    data_x = data[:, :data.shape[1] - 1]\n",
    "    data_y = data[:, data.shape[1] - 1]\n",
    "    if i == 0:\n",
    "        offset = random.randint(0, data.shape[1] - 2)\n",
    "        data_x = data_x[:,offset:offset+1]\n",
    "    if i == 1:\n",
    "        data_x = data_x[:, 0:random.randint(0, data.shape[1] - 1)]\n",
    "    if i == 2:\n",
    "        y_pred = np.exp(cross_val_predict(m, data_x, np.log(data_y), cv=10))\n",
    "        acc, recall, precision, f1, ab_error, squ_error = eval(y_true=data_y, y_pred=np.round(y_pred))\n",
    "        for e in  eval_list:\n",
    "            plt.scatter(i,e )\n",
    "        continue\n",
    "    y_pred = cross_val_predict(m, data_x, data_y, cv=10)\n",
    "    acc, recall, precision, f1, ab_error, squ_error = eval(y_true=data_y, y_pred=np.round(y_pred))\n",
    "    # print(acc, recall, precision, f1, ab_error, squ_error)\n",
    "    print(acc, recall, precision, f1, ab_error, squ_error)\n",
    "    eval_list=[acc, recall, precision, f1, ab_error, squ_error]\n",
    "    for e in  eval_list:\n",
    "        plt.scatter(i,e )\n",
    "\n",
    "plt.legend()\n",
    "\n"
   ]
  },
  {
   "cell_type": "code",
   "execution_count": null,
   "metadata": {},
   "outputs": [],
   "source": []
  }
 ],
 "metadata": {
  "kernelspec": {
   "display_name": "Python 3",
   "language": "python",
   "name": "python3"
  },
  "language_info": {
   "codemirror_mode": {
    "name": "ipython",
    "version": 3
   },
   "file_extension": ".py",
   "mimetype": "text/x-python",
   "name": "python",
   "nbconvert_exporter": "python",
   "pygments_lexer": "ipython3",
   "version": "3.6.5"
  }
 },
 "nbformat": 4,
 "nbformat_minor": 2
}
