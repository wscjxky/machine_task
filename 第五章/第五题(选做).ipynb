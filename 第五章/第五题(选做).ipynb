{
 "cells": [
  {
   "cell_type": "markdown",
   "metadata": {},
   "source": [
    "# 第五题(选做)：实现n层感知机\n",
    "\n",
    "实验内容：\n",
    "1. 数据集不限\n",
    "2. 激活函数不限\n",
    "3. 损失函数不限\n",
    "\n",
    "要求给出以下内容的总结：\n",
    "1. 数据集描述\n",
    "2. 预处理方法及步骤\n",
    "3. 模型架构：层数，激活函数，损失函数\n",
    "4. 神经网络超参数：学习率，迭代轮数\n",
    "5. 训练集和测试集精度\n",
    "6. 损失值变化曲线\n",
    "7. 代码注释"
   ]
  },
  {
   "cell_type": "code",
   "execution_count": null,
   "metadata": {},
   "outputs": [],
   "source": [
    "import tensorflow as tf\n",
    "from tensorflow.examples.tutorials.mnist import input_data\n",
    " \n",
    "mnist = input_data.read_data_sets(\"MNIST_data/\", one_hot=True)\n",
    "in_units = 784 #节点数\n",
    "h1_units = 300 #隐含层节点数\n",
    "W1 = tf.Variable(tf.truncated_normal([in_units, h1_units], stddev=0.1))\n",
    "b1 = tf.Variable(tf.zeros([h1_units])) #隐含层偏置b1全部初始化为0\n",
    "W2 = tf.Variable(tf.zeros([h1_units, 10])) \n",
    "b2 = tf.Variable(tf.zeros([10]))\n",
    "x = tf.placeholder(tf.float32, [None, in_units])\n",
    "keep_prob = tf.placeholder(tf.float32) #Dropout失活率\n",
    "iter_number=2000\n",
    "\n",
    "hidden1 = tf.nn.relu(tf.matmul(x, W1) + b1)\n",
    "hidden1_drop = tf.nn.dropout(hidden1, keep_prob)\n",
    "y = tf.nn.softmax(tf.matmul(hidden1_drop, W2) + b2)\n",
    " \n",
    "#训练部分\n",
    "y_ = tf.placeholder(tf.float32, [None, 10])\n",
    "cross_entropy = tf.reduce_mean(-tf.reduce_sum(y_ * tf.log(y), reduction_indices=[1]))\n",
    "train_step = tf.train.AdagradOptimizer(0.3).minimize(cross_entropy)\n",
    " \n",
    "sess = tf.InteractiveSession()\n",
    "tf.global_variables_initializer().run()\n",
    "correct_prediction = tf.equal(tf.arg_max(y, 1), tf.arg_max(y_, 1))\n",
    "accuracy = tf.reduce_mean(tf.cast(correct_prediction, tf.float32))\n",
    "for i in range(iter_number):\n",
    "    batch_xs, batch_ys = mnist.train.next_batch(100)\n",
    "    train_step.run({x: batch_xs, y_: batch_ys, keep_prob: 0.75})\n",
    "print('final_accuracy:', accuracy.eval({x: mnist.test.images, y_: mnist.test.labels, keep_prob: 1.0}))\n",
    "print(\"训练集精度：\",accurancy.eval({x:mnist.train.images,y_:mnist.train.labels,keep_prob:1.0}))\n",
    "print(\"测试集精度：\",accurancy.eval({x:mnist.test.images,y_:mnist.test.labels,keep_prob:1.0}))#因为是预测部分，所以令keep_prob=1\n"
   ]
  },
  {
   "cell_type": "code",
   "execution_count": null,
   "metadata": {},
   "outputs": [],
   "source": [
    "\n",
    "def plot_loss_curve(training_loss_list, testing_loss_list):\n",
    "    '''\n",
    "    绘制损失值变化曲线\n",
    "\n",
    "    Parameters\n",
    "    ----------\n",
    "    training_loss_list: list(float)，每迭代一次之后，训练集上的损失值\n",
    "\n",
    "    testing_loss_list: list(float)，每迭代一次之后，测试集上的损失值\n",
    "\n",
    "    '''\n",
    "    plt.figure(figsize=(10, 6))\n",
    "    plt.plot(training_loss_list, label='training loss')\n",
    "    plt.plot(testing_loss_list, label='testing loss')\n",
    "    plt.xlabel('epoch')\n",
    "    plt.ylabel('loss')\n",
    "    plt.legend()\n",
    "    plt.show()\n",
    "plot_loss_curve(train_loss_list, test_loss_list)"
   ]
  },
  {
   "cell_type": "code",
   "execution_count": null,
   "metadata": {},
   "outputs": [],
   "source": []
  }
 ],
 "metadata": {
  "kernelspec": {
   "display_name": "Python 3",
   "language": "python",
   "name": "python3"
  },
  "language_info": {
   "codemirror_mode": {
    "name": "ipython",
    "version": 3
   },
   "file_extension": ".py",
   "mimetype": "text/x-python",
   "name": "python",
   "nbconvert_exporter": "python",
   "pygments_lexer": "ipython3",
   "version": "3.6.5"
  }
 },
 "nbformat": 4,
 "nbformat_minor": 2
}
