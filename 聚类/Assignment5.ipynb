{
 "cells": [
  {
   "cell_type": "markdown",
   "metadata": {},
   "source": [
    "# 第五题：实现层次聚类，并与其他聚类算法进行对比（选做）\n",
    "\n",
    "实验内容：\n",
    "1. 实现三种形式的层次聚类（最小距离、最大距离、平均距离）\n",
    "2. 至少选择两个数据集\n",
    "3. 在这两个数据集上运行自己实现的层次聚类算法和sklearn的KMeans，GMM，DBSCAN，共4个聚类算法\n",
    "4. 计算外部指标FMI和NMI\n",
    "5. 绘制4种聚类的聚类效果"
   ]
  },
  {
   "cell_type": "code",
   "execution_count": null,
   "metadata": {
    "collapsed": true
   },
   "outputs": [],
   "source": [
    "# YOUR CODE HERE\n",
    "\n",
    "\n",
    "\n"
   ]
  }
 ],
 "metadata": {
  "kernelspec": {
   "display_name": "Python 3",
   "language": "python",
   "name": "python3"
  },
  "language_info": {
   "codemirror_mode": {
    "name": "ipython",
    "version": 3
   },
   "file_extension": ".py",
   "mimetype": "text/x-python",
   "name": "python",
   "nbconvert_exporter": "python",
   "pygments_lexer": "ipython3",
   "version": "3.6.2"
  }
 },
 "nbformat": 4,
 "nbformat_minor": 2
}
